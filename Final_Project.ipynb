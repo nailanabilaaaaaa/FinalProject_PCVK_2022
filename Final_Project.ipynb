{
  "nbformat": 4,
  "nbformat_minor": 0,
  "metadata": {
    "colab": {
      "name": "Final_Project.ipynb",
      "provenance": [],
      "authorship_tag": "ABX9TyO2Dw1OL+Zn39Htvyx3JhnN",
      "include_colab_link": true
    },
    "kernelspec": {
      "name": "python3",
      "display_name": "Python 3"
    },
    "language_info": {
      "name": "python"
    }
  },
  "cells": [
    {
      "cell_type": "markdown",
      "metadata": {
        "id": "view-in-github",
        "colab_type": "text"
      },
      "source": [
        "<a href=\"https://colab.research.google.com/github/nailanabilaaaaaa/FinalProject_PCVK_2022/blob/main/Final_Project.ipynb\" target=\"_parent\"><img src=\"https://colab.research.google.com/assets/colab-badge.svg\" alt=\"Open In Colab\"/></a>"
      ]
    },
    {
      "cell_type": "markdown",
      "source": [
        "**Final Project - PCVK**"
      ],
      "metadata": {
        "id": "03FCm4eOTRoq"
      }
    },
    {
      "cell_type": "markdown",
      "source": [
        "* Naila Nabila ( 1941720130 / 16 / TI - 3F )\n",
        "* Savina Lintang Kynanti ( 1941720135 / 24 / TI - 3F )"
      ],
      "metadata": {
        "id": "nVRhxttgTceF"
      }
    },
    {
      "cell_type": "code",
      "execution_count": null,
      "metadata": {
        "id": "72NpQdaYTFyA"
      },
      "outputs": [],
      "source": [
        ""
      ]
    }
  ]
}